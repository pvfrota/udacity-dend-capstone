{
 "cells": [
  {
   "cell_type": "markdown",
   "metadata": {
    "editable": true
   },
   "source": [
    "# Using Amazon.com user reviews to generate recommendation/analytics databases\n",
    "### Data Engineering Capstone Project\n",
    "\n",
    "#### Project Summary\n",
    "\n",
    "The objective of this project is to develop a database for recommendation and analytics based on data from product reviews on the Amazon.com website, in addition to the Amazon.com product metadata.\n",
    "\n",
    "The views intended for recommendation can be placed on an index and serve as a recommendation system for when a user accesses a particular product.\n",
    "\n",
    "The views destined for analytics, on the other hand, may show products that are being poorly reviewed and/or under-sold, and come to help in decision making.\n",
    "\n",
    "The project follows the follow steps:\n",
    "* Step 1: Scope the Project and Gather Data\n",
    "* Step 2: Explore and Assess the Data\n",
    "* Step 3: Define the Data Model\n",
    "* Step 4: Run ETL to Model the Data\n",
    "* Step 5: Running queries on the built database\n",
    "* Step 6: Complete Project Write Up"
   ]
  },
  {
   "cell_type": "code",
   "execution_count": 1,
   "metadata": {
    "editable": true
   },
   "outputs": [],
   "source": [
    "import pandas as pd\n",
    "\n",
    "from pyspark import SparkConf, SparkContext\n",
    "from pyspark.sql import SparkSession\n",
    "\n",
    "from helpers.metadata import *\n",
    "from helpers.ratings import *\n",
    "from helpers.utils import *\n",
    "\n",
    "from sql_queries.analytics_queries import *\n",
    "from sql_queries.etl_queries import *"
   ]
  },
  {
   "cell_type": "markdown",
   "metadata": {
    "editable": true
   },
   "source": [
    "### Step 1: Scope the Project and Gather Data\n",
    "\n",
    "#### Scope\n",
    "\n",
    "The data used in this project were made available by [Julian McAuley](https://cseweb.ucsd.edu/~jmcauley/), from the [University of California San Diego (UCSD)](https://ucsd.edu/), and originally were part of [Stanford's Stanford Network Analysis Project (SNAP) database](https://snap.stanford.edu/data/), through the [following link](https://snap.stanford.edu/data/web-Amazon.html), which contained a dataset from March 2013.\n",
    "\n",
    "**However, the dataset i used was a little more updated, from July 2014. There are more updated datasets, but they are much bigger than that.**\n",
    "\n",
    "#### Describe and Gather Data \n",
    "\n",
    "All necessary files are available at this [link](http://jmcauley.ucsd.edu/data/amazon/links.html).\n",
    "\n",
    "The metadata file can be downloaded through this [direct link](http://snap.stanford.edu/data/amazon/productGraph/metadata.json.gz).\n",
    "\n",
    "The review files can be downloaded according to your choice, from the **\"Small\" subsets for experimentation > ratings only** section.\n",
    "\n",
    "![\"Small\" subsets for experimentation > ratings only](images/ratings_subset.png)\n",
    "\n",
    "In my case, I downloaded all the rating files and made a manual cut of the datasets to reduce the size, since the original datasets had more than 80 million reviews. My dataset after the cut was 2.5 million reviews from all categories.\n",
    "\n",
    "I also cut the metadata dataset, from ~9.4 million products, to 2 million products\n",
    "\n",
    "I used the following commands to cut the datasets:\n",
    "\n",
    "- 'Cutting' the metadata dataset:\n",
    "\n",
    "```shell\n",
    "~ head -n 2000000 sample_data/metadata.json > sample_data/metadata_cut.json && mv sample_data/metadata_cut.json sample_data/metadata.json\n",
    "```\n",
    "\n",
    "- 'Cutting' the ratings dataset:\n",
    "\n",
    "```shell\n",
    "~ ls sample_data/ratings_*.csv | xargs -i head -n 105000 sample_data/{} > sample_data/ratings.csv\n",
    "```\n",
    "\n",
    "Sample metadata:\n",
    "\n",
    "```json\n",
    "{\n",
    "  \"asin\": \"0000031852\",\n",
    "  \"title\": \"Girls Ballet Tutu Zebra Hot Pink\",\n",
    "  \"price\": 3.17,\n",
    "  \"imUrl\": \"http://ecx.images-amazon.com/images/I/51fAmVkTbyL._SY300_.jpg\",\n",
    "  \"related\":\n",
    "  {\n",
    "    \"also_bought\": [\"B00JHONN1S\", \"B002BZX8Z6\", \"B00D2K1M3O\", \"0000031909\", \"B00613WDTQ\", \"B00D0WDS9A\", \"B00D0GCI8S\", \"0000031895\", \"B003AVKOP2\", \"B003AVEU6G\", \"B003IEDM9Q\", \"B002R0FA24\", \"B00D23MC6W\", \"B00D2K0PA0\", \"B00538F5OK\", \"B00CEV86I6\", \"B002R0FABA\", \"B00D10CLVW\", \"B003AVNY6I\", \"B002GZGI4E\", \"B001T9NUFS\", \"B002R0F7FE\", \"B00E1YRI4C\", \"B008UBQZKU\", \"B00D103F8U\", \"B007R2RM8W\"],\n",
    "    \"also_viewed\": [\"B002BZX8Z6\", \"B00JHONN1S\", \"B008F0SU0Y\", \"B00D23MC6W\", \"B00AFDOPDA\", \"B00E1YRI4C\", \"B002GZGI4E\", \"B003AVKOP2\", \"B00D9C1WBM\", \"B00CEV8366\", \"B00CEUX0D8\", \"B0079ME3KU\", \"B00CEUWY8K\", \"B004FOEEHC\", \"0000031895\", \"B00BC4GY9Y\", \"B003XRKA7A\", \"B00K18LKX2\", \"B00EM7KAG6\", \"B00AMQ17JA\", \"B00D9C32NI\", \"B002C3Y6WG\", \"B00JLL4L5Y\", \"B003AVNY6I\", \"B008UBQZKU\", \"B00D0WDS9A\", \"B00613WDTQ\", \"B00538F5OK\", \"B005C4Y4F6\", \"B004LHZ1NY\", \"B00CPHX76U\", \"B00CEUWUZC\", \"B00IJVASUE\", \"B00GOR07RE\", \"B00J2GTM0W\", \"B00JHNSNSM\", \"B003IEDM9Q\", \"B00CYBU84G\", \"B008VV8NSQ\", \"B00CYBULSO\", \"B00I2UHSZA\", \"B005F50FXC\", \"B007LCQI3S\", \"B00DP68AVW\", \"B009RXWNSI\", \"B003AVEU6G\", \"B00HSOJB9M\", \"B00EHAGZNA\", \"B0046W9T8C\", \"B00E79VW6Q\", \"B00D10CLVW\", \"B00B0AVO54\", \"B00E95LC8Q\", \"B00GOR92SO\", \"B007ZN5Y56\", \"B00AL2569W\", \"B00B608000\", \"B008F0SMUC\", \"B00BFXLZ8M\"],\n",
    "    \"bought_together\": [\"B002BZX8Z6\"]\n",
    "  },\n",
    "  \"salesRank\": {\"Toys & Games\": 211836},\n",
    "  \"brand\": \"Coxlures\",\n",
    "  \"categories\": [[\"Sports & Outdoors\", \"Other Sports\", \"Dance\"]]\n",
    "}\n",
    "```\n",
    "\n",
    "where\n",
    "\n",
    "- asin: [ASIN](https://en.wikipedia.org/wiki/Amazon_Standard_Identification_Number)https://en.wikipedia.org/wiki/Amazon_Standard_Identification_Number of the product, e.g. 0000031852\n",
    "- title: name of the product\n",
    "- price: price in US dollars (at time of crawl)\n",
    "- imUrl: url of the product image\n",
    "- related: related products (also bought, also viewed, bought together, buy after viewing)\n",
    "- salesRank: sales rank information\n",
    "- brand: brand name\n",
    "- categories: list of categories the product belongs to\n",
    "\n",
    "Sample ratings:\n",
    "\n",
    "```csv\n",
    "A1EE2E3N7PW666,B000GFDAUG,5.0,1202256000\n",
    "AGZ8SM1BGK3CK,B000GFDAUG,5.0,1198195200\n",
    "A2VHZ21245KBT7,B000GIOPK2,4.0,1215388800\n",
    "ACX8YW2D5EGP6,B000GIOPK2,4.0,1185840000\n",
    "A9RNMO9MUSMTJ,B000GIOPK2,2.0,1281052800\n",
    "A3STFVPM8NHJ7B,B000GIOPK2,5.0,1203897600\n",
    "A2582KMXLK2P06,B000GIOPK2,5.0,1205884800\n",
    "A1TZCLCW9QGGBH,B000GIOPK2,4.0,1209427200\n",
    "A2E2I6B878CRMA,B000GIOPK2,5.0,1378684800\n",
    "AD5MZA8SOVMPJ,B000GIOPK2,5.0,1218240000\n",
    "\n",
    "```\n",
    "\n",
    "which represents a tuple (user,item,rating,timestamp), where:\n",
    "\n",
    "- user: ID of a user\n",
    "- item: [ASIN](https://en.wikipedia.org/wiki/Amazon_Standard_Identification_Number)https://en.wikipedia.org/wiki/Amazon_Standard_Identification_Number a the product\n",
    "- rating: The rating the user gave\n",
    "- timestamp: Timestamp of the rating"
   ]
  },
  {
   "cell_type": "code",
   "execution_count": 2,
   "metadata": {
    "editable": true
   },
   "outputs": [],
   "source": [
    "# Defines directory to save '.parquet' files\n",
    "OUTPUT_DIR = 'output'\n",
    "\n",
    "# Initializes Spark Session\n",
    "conf = SparkConf() \\\n",
    "        .setMaster('local')\\\n",
    "        .setAppName('dend-capstone')\n",
    "\n",
    "sc = SparkContext.getOrCreate(conf=conf)\n",
    "\n",
    "# Initializes Spark Session\n",
    "session = SparkSession(sc)"
   ]
  },
  {
   "cell_type": "code",
   "execution_count": 3,
   "metadata": {
    "editable": true
   },
   "outputs": [
    {
     "name": "stderr",
     "output_type": "stream",
     "text": [
      "/opt/spark-2.4.3-bin-hadoop2.7/python/pyspark/sql/session.py:366: UserWarning: Using RDD of dict to inferSchema is deprecated. Use pyspark.sql.Row instead\n",
      "  warnings.warn(\"Using RDD of dict to inferSchema is deprecated. \"\n"
     ]
    }
   ],
   "source": [
    "# Initializes amazon ratings text files\n",
    "# Also, apply some transformations/cleaning\n",
    "product_review_record_staging = session.sparkContext \\\n",
    "    .textFile('sample_data/ratings.csv') \\\n",
    "    .map(parse_ratings) \\\n",
    "    .map(convert_ts_to_date) \\\n",
    "    .map(cast_rating_to_int) \\\n",
    "    .toDF()\n",
    "\n",
    "# Initializes metadata file, with product information\n",
    "# Also, apply some transformations/cleaning\n",
    "metadata_staging = session.sparkContext \\\n",
    "    .textFile('sample_data/metadata.json') \\\n",
    "    .map(parse_metadata) \\\n",
    "    .filter(only_with_all_must_exist_keys) \\\n",
    "    .filter(only_products_with_brand) \\\n",
    "    .map(remove_unnecessary_keys) \\\n",
    "    .toDF()"
   ]
  },
  {
   "cell_type": "code",
   "execution_count": 4,
   "metadata": {
    "editable": true
   },
   "outputs": [
    {
     "name": "stdout",
     "output_type": "stream",
     "text": [
      "+----------+------+-------------------+--------------+\n",
      "|      asin|rating|        review_date|          user|\n",
      "+----------+------+-------------------+--------------+\n",
      "|B000GFDAUG|     5|2008-02-06 00:00:00|A1EE2E3N7PW666|\n",
      "|B000GFDAUG|     5|2007-12-21 00:00:00| AGZ8SM1BGK3CK|\n",
      "|B000GIOPK2|     4|2008-07-07 00:00:00|A2VHZ21245KBT7|\n",
      "|B000GIOPK2|     4|2007-07-31 00:00:00| ACX8YW2D5EGP6|\n",
      "|B000GIOPK2|     2|2010-08-06 00:00:00| A9RNMO9MUSMTJ|\n",
      "+----------+------+-------------------+--------------+\n",
      "only showing top 5 rows\n",
      "\n"
     ]
    }
   ],
   "source": [
    "product_review_record_staging.show(n=5)"
   ]
  },
  {
   "cell_type": "code",
   "execution_count": 5,
   "metadata": {
    "editable": true
   },
   "outputs": [
    {
     "name": "stdout",
     "output_type": "stream",
     "text": [
      "+----------+--------------+--------------------+-----+--------------------+--------------------+--------------------+\n",
      "|      asin|         brand|          categories|price|             related|           salesRank|               title|\n",
      "+----------+--------------+--------------------+-----+--------------------+--------------------+--------------------+\n",
      "|0000037214|    Big Dreams|[[Clothing, Shoes...| 6.99|[also_viewed -> [...|[Clothing -> 1233...|Purple Sequin Tin...|\n",
      "|0000031909|       Unknown|[[Sports & Outdoo...|  7.0|[bought_together ...|[Toys & Games -> ...|Girls Ballet Tutu...|\n",
      "|0000031852|      Coxlures|[[Sports & Outdoo...| 3.17|[bought_together ...|[Toys & Games -> ...|Girls Ballet Tutu...|\n",
      "|0000031887|Boutique Cutie|[[Clothing, Shoes...| 6.79|[bought_together ...|[Sports &amp; Out...|Ballet Dress-Up F...|\n",
      "|0000031895|      BubuBibi|[[Sports & Outdoo...| 2.99|[bought_together ...|[Toys & Games -> ...|Girls Ballet Tutu...|\n",
      "+----------+--------------+--------------------+-----+--------------------+--------------------+--------------------+\n",
      "only showing top 5 rows\n",
      "\n"
     ]
    }
   ],
   "source": [
    "metadata_staging.show(n=5)"
   ]
  },
  {
   "cell_type": "code",
   "execution_count": 6,
   "metadata": {
    "editable": true
   },
   "outputs": [],
   "source": [
    "# Write 'metadata_staging' table to parquet\n",
    "metadata_staging.write \\\n",
    "    .parquet(\n",
    "        '{}/metadata_staging.parquet'.format(OUTPUT_DIR),\n",
    "        'overwrite',\n",
    "    )"
   ]
  },
  {
   "cell_type": "code",
   "execution_count": 7,
   "metadata": {
    "editable": true
   },
   "outputs": [],
   "source": [
    "# Write 'product_review_record_staging' table to parquet\n",
    "\n",
    "product_review_record_staging.write \\\n",
    "    .parquet(\n",
    "        '{}/product_review_record_staging.parquet'.format(OUTPUT_DIR),\n",
    "        'overwrite',\n",
    "    )"
   ]
  },
  {
   "cell_type": "markdown",
   "metadata": {
    "editable": true
   },
   "source": [
    "### Step 2: Explore and Assess the Data\n",
    "#### Explore the Data\n",
    "Some products do not contain all possible information, so they have been removed from the base, in addition, products without brand information have also been removed.\n",
    "\n",
    "If a product is found without a corresponding review, it will also be removed from the database later.\n",
    "\n",
    "#### Cleaning Steps\n",
    "Some cleaning steps have already been carried out previously, such as, for example, the selection of only branded products, in addition to all the necessary keys.\n",
    "\n",
    "The other cleaning processes will be done during the pipeline to create the fact/dimension tables."
   ]
  },
  {
   "cell_type": "code",
   "execution_count": 8,
   "metadata": {
    "editable": true
   },
   "outputs": [],
   "source": [
    "# Read parquet files\n",
    "metadata_staging = session.read.parquet(\n",
    "    '{}/metadata_staging.parquet'.format(OUTPUT_DIR)\n",
    ")\n",
    "\n",
    "product_review_record_staging = session.read.parquet(\n",
    "    '{}/product_review_record_staging.parquet'.format(OUTPUT_DIR)\n",
    ")"
   ]
  },
  {
   "cell_type": "code",
   "execution_count": 9,
   "metadata": {
    "editable": true
   },
   "outputs": [],
   "source": [
    "# RDD with related product information\n",
    "product_related_product_staging = metadata_staging.rdd \\\n",
    "    .map(map_product_related_product) \\\n",
    "    .flatMapValues(dict.items) \\\n",
    "    .map(lambda row: ((row[0], row[1][0]), row[1][1])) \\\n",
    "    .flatMapValues(lambda asin: asin) \\\n",
    "    .map(apply_product_related_product_staging_schema) \\\n",
    "    .toDF()\n",
    "\n",
    "# RDD with sales rank information. Determines which\n",
    "# products are best-selling (the lower the better)\n",
    "product_sales_rank_staging = metadata_staging.rdd \\\n",
    "    .map(map_sales_rank) \\\n",
    "    .flatMapValues(dict.items) \\\n",
    "    .map(apply_product_sales_rank_staging_schema) \\\n",
    "    .toDF()\n",
    "\n",
    "# RDD with information about product categories\n",
    "product_category_staging = metadata_staging.rdd \\\n",
    "    .map(map_categories) \\\n",
    "    .flatMapValues(lambda categories: categories) \\\n",
    "    .flatMapValues(lambda category: category) \\\n",
    "    .map(apply_product_category_staging_schema) \\\n",
    "    .toDF()"
   ]
  },
  {
   "cell_type": "markdown",
   "metadata": {
    "editable": true
   },
   "source": [
    "### Step 3: Define the Data Model\n",
    "#### 3.1 Conceptual Data Model\n",
    "\n",
    "![Conceptual Model](images/conceptual_model.png)\n",
    "\n",
    "The conceptual model consists of eight tables, which are:\n",
    "\n",
    "- `product_review_record_fact`: Stores all details of reviews made by users on Amazon.com;\n",
    "\n",
    "- `product_review_dimension`: Stores the consolidation of reviews by product, for example, how many reviews a given product received, what the average rating of the reviews was, what was the worst rating a product received, the best rating a product received, among other details;\n",
    "\n",
    "- `product_dimension`: Stores details about Amazon.com products, such as their description, brand, price, among other details;\n",
    "\n",
    "- `product_category_dimension`: Stores the categories to which a given product is categorized;\n",
    "\n",
    "- `product_sales_rank_by_category_dimension`: Stores the sales rank of a given product for each category to which it is associated. The sales rank determines, as the name says, how much a product is sold. This rank is calculated in ascending order, that is, the lower the rank of a product, the better it is sold;\n",
    "\n",
    "- `product_sales_rank_dimension`: Stores the general sales rank of a product, that is, for all categories in which it is inserted, it takes the best sales rank and inserts it in the table;\n",
    "\n",
    "- `product_related_product_dimension`: Stores which products are related to a given product, and what type of that relationship (also bought, also viewed, bought together, buy after viewing);\n",
    "\n",
    "- `user_review_dimension`: Stores consolidated information about the reviews made by a user, such as, how many reviews a given user made, what the average rating he gave during his reviews, among other details.\n",
    "\n",
    "The data in the `product_review_record_fact` table comes entirely from the` product_review_record_staging` table, which in turn comes entirely from the `.csv` file with rating data from Amazon.com users.\n",
    "\n",
    "Data in the `product_dimension` table comes entirely from the` metadata_staging` table, which in turn comes entirely from the Amazon.com product metadata file (`metadata.json`)\n",
    "\n",
    "The other tables are generated through transformations and aggregations between the staging tables and the `product_review_record_fact` and` product_dimension` tables\n",
    "\n",
    "#### 3.2 Mapping Out Data Pipelines\n",
    "\n",
    "The pipeline steps are as follows:\n",
    "\n",
    "- Load the datasets\n",
    "- Parse each line of the `.csv` file of ratings to the` product_review_record_staging` table;\n",
    "- Parse each line of the metadata `.json` file to the` metadata_staging` table;\n",
    "- In the `metadata_staging` table, filter products that do not have all the necessary information (only products that have information about asin, title, price, related products, sales rank, brand and categories are kept);\n",
    "- Write the two tables in their respective `.parquet` files;\n",
    "- Based on the `metadata_staging` table, it performs transformations to generate the` product_related_product_staging`, `product_sales_rank_staging` and` product_category_staging` tables, with raw information about the relationship between products, the sales rank of products and the category of products;\n",
    "- Creates the table `product_review_record_fact`, clearing the data from the table` product_review_record_staging`, keeping only the data of products that have the corresponding metadata;\n",
    "- Creates the `product_review_dimension` table, consolidating review data from the` product_review_record_fact` table;\n",
    "- Creates the table `product_dimension`, clearing the data from the table` metadata_staging`, maintaining only data of products that have corresponding reviews;\n",
    "- Creates the `product_related_product_dimension` table, clearing the data from the` product_related_product_staging` table, keeping only product data that are also in the `product_dimension` table;\n",
    "- Creates the `product_sales_rank_by_category_dimension` table, clearing the data from the` product_sales_rank_dimension` table, maintaining only product data that are also in the `product_dimension` table;\n",
    "- Creates the table `product_sales_rank_dimension`, consolidating the data from the table` product_sales_rank_by_category_dimension`\n",
    "- Creates the `user_review_dimension` table, consolidating data about user reviews found in the` product_review_record_fact` table\n",
    "- Write a `.parquet` file for the fact table and for each of the dimension tables."
   ]
  },
  {
   "cell_type": "markdown",
   "metadata": {
    "editable": true
   },
   "source": [
    "### Step 4: Run Pipelines to Model the Data \n",
    "#### 4.1 Create the data model"
   ]
  },
  {
   "cell_type": "code",
   "execution_count": 10,
   "metadata": {
    "editable": true
   },
   "outputs": [],
   "source": [
    "# Convert RDD's to DataFrames / Create views for every \n",
    "# DataFrame converted, to enable the use of SQL queries\n",
    "metadata_staging.createOrReplaceTempView('metadata_staging')\n",
    "product_review_record_staging.createOrReplaceTempView('product_review_record_staging')\n",
    "product_related_product_staging.createOrReplaceTempView('product_related_product_staging')\n",
    "product_sales_rank_staging.createOrReplaceTempView('product_sales_rank_staging')\n",
    "product_category_staging.createOrReplaceTempView('product_category_staging')"
   ]
  },
  {
   "cell_type": "code",
   "execution_count": 11,
   "metadata": {
    "editable": true
   },
   "outputs": [],
   "source": [
    "# Creates the 'product_review_record_fact' table\n",
    "product_review_record_fact = session.sql(product_review_record_fact_query)\n",
    "\n",
    "# Persists 'product_review_record_fact' table, as it \n",
    "# will be used in more than one of the next \n",
    "# transformations\n",
    "product_review_record_fact.persist()\n",
    "\n",
    "# Create view for 'product_review_record_fact' table,\n",
    "# to enable the use of SQL queries\n",
    "product_review_record_fact.createOrReplaceTempView('product_review_record_fact')"
   ]
  },
  {
   "cell_type": "code",
   "execution_count": 12,
   "metadata": {
    "editable": true
   },
   "outputs": [],
   "source": [
    "# Creates the 'product_review_dimension' table\n",
    "product_review_dimension = session.sql(product_review_dimension_query)"
   ]
  },
  {
   "cell_type": "code",
   "execution_count": 13,
   "metadata": {
    "editable": true
   },
   "outputs": [],
   "source": [
    "# Creates the 'product_dimension' table\n",
    "product_dimension = session.sql(product_dimension_query)\n",
    "\n",
    "# Persists 'product_dimension' table, as it will be\n",
    "# used in more than one of the next transformations\n",
    "product_dimension.persist()\n",
    "\n",
    "# Create view for 'product_dimension' table, to\n",
    "# enable the use of SQL queries\n",
    "product_dimension.createOrReplaceTempView('product_dimension')"
   ]
  },
  {
   "cell_type": "code",
   "execution_count": 14,
   "metadata": {
    "editable": true
   },
   "outputs": [],
   "source": [
    "# Creates the 'product_related_product_dimension' table\n",
    "product_related_product_dimension = session.sql(product_related_product_dimension_query)"
   ]
  },
  {
   "cell_type": "code",
   "execution_count": 15,
   "metadata": {
    "editable": true
   },
   "outputs": [],
   "source": [
    "# Creates the 'product_sales_rank_by_category_dimension' table\n",
    "product_sales_rank_by_category_dimension = session.sql(product_sales_rank_by_category_dimension_query)\n",
    "\n",
    "# Create view for 'product_sales_rank_by_category_dimension'\n",
    "# table, to enable the use of SQL queries\n",
    "product_sales_rank_by_category_dimension.createOrReplaceTempView('product_sales_rank_by_category_dimension')"
   ]
  },
  {
   "cell_type": "code",
   "execution_count": 16,
   "metadata": {
    "editable": true
   },
   "outputs": [],
   "source": [
    "# Creates the 'product_sales_rank_dimension' table\n",
    "\n",
    "product_sales_rank_dimension = session.sql(product_sales_rank_dimension_query)"
   ]
  },
  {
   "cell_type": "code",
   "execution_count": 17,
   "metadata": {
    "editable": true
   },
   "outputs": [],
   "source": [
    "# Creates the 'product_category_dimension' table\n",
    "\n",
    "product_category_dimension = session.sql(product_category_dimension_query)"
   ]
  },
  {
   "cell_type": "code",
   "execution_count": 18,
   "metadata": {
    "editable": true
   },
   "outputs": [],
   "source": [
    "# Creates the 'user_review_dimension' table \n",
    "\n",
    "user_review_dimension = session.sql(user_review_dimension_query)"
   ]
  },
  {
   "cell_type": "markdown",
   "metadata": {
    "editable": true
   },
   "source": [
    "Write each table to '.parquet'"
   ]
  },
  {
   "cell_type": "code",
   "execution_count": 26,
   "metadata": {
    "editable": true
   },
   "outputs": [],
   "source": [
    "# Some files could have been better partitioned, but they were not, \n",
    "# as they would generate many folders, which would hit the EXT4 FS \n",
    "# subfolder limit"
   ]
  },
  {
   "cell_type": "code",
   "execution_count": 19,
   "metadata": {
    "editable": true
   },
   "outputs": [],
   "source": [
    "product_review_record_fact.write \\\n",
    "    .partitionBy(\n",
    "        'review_year',\n",
    "        'review_month',\n",
    "        'review_day'\n",
    "    ).parquet(\n",
    "        '{}/product_review_record_fact.parquet'.format(OUTPUT_DIR),\n",
    "        'overwrite',\n",
    "    )"
   ]
  },
  {
   "cell_type": "code",
   "execution_count": 20,
   "metadata": {
    "editable": true
   },
   "outputs": [],
   "source": [
    "product_review_dimension.write \\\n",
    "    .parquet(\n",
    "        '{}/product_review_dimension.parquet'.format(OUTPUT_DIR),\n",
    "        'overwrite',\n",
    "    )"
   ]
  },
  {
   "cell_type": "code",
   "execution_count": 21,
   "metadata": {
    "editable": true
   },
   "outputs": [],
   "source": [
    "product_dimension.write \\\n",
    "    .parquet(\n",
    "        '{}/product_dimension.parquet'.format(OUTPUT_DIR),\n",
    "        'overwrite',\n",
    "    )"
   ]
  },
  {
   "cell_type": "code",
   "execution_count": 22,
   "metadata": {
    "editable": true
   },
   "outputs": [],
   "source": [
    "product_related_product_dimension.write \\\n",
    "    .parquet(\n",
    "        '{}/product_related_product_dimension.parquet'.format(OUTPUT_DIR),\n",
    "        'overwrite',\n",
    "    )"
   ]
  },
  {
   "cell_type": "code",
   "execution_count": 23,
   "metadata": {
    "editable": true
   },
   "outputs": [],
   "source": [
    "product_sales_rank_dimension.write \\\n",
    "    .parquet(\n",
    "        '{}/product_sales_rank_dimension.parquet'.format(OUTPUT_DIR),\n",
    "        'overwrite',\n",
    "    )"
   ]
  },
  {
   "cell_type": "code",
   "execution_count": 24,
   "metadata": {
    "editable": true
   },
   "outputs": [],
   "source": [
    "product_sales_rank_by_category_dimension.write \\\n",
    "    .partitionBy('product_category') \\\n",
    "    .parquet(\n",
    "        '{}/product_sales_rank_by_category_dimension.parquet'.format(OUTPUT_DIR),\n",
    "        'overwrite',\n",
    "    )"
   ]
  },
  {
   "cell_type": "code",
   "execution_count": 25,
   "metadata": {
    "editable": true
   },
   "outputs": [],
   "source": [
    "product_category_dimension.write \\\n",
    "    .partitionBy('product_category') \\\n",
    "    .parquet(\n",
    "        '{}/product_category_dimension.parquet'.format(OUTPUT_DIR),\n",
    "        'overwrite',\n",
    "    )"
   ]
  },
  {
   "cell_type": "code",
   "execution_count": 26,
   "metadata": {
    "editable": true
   },
   "outputs": [],
   "source": [
    "user_review_dimension.write \\\n",
    "    .parquet(\n",
    "        '{}/user_review_dimension.parquet'.format(OUTPUT_DIR),\n",
    "        'overwrite',\n",
    "    )"
   ]
  },
  {
   "cell_type": "markdown",
   "metadata": {
    "editable": true
   },
   "source": [
    "#### 4.2 Data Quality Checks\n",
    "Explain the data quality checks you'll perform to ensure the pipeline ran as expected. These could include:\n",
    " * Integrity constraints on the relational database (e.g., unique key, data type, etc.)\n",
    " * Unit tests for the scripts to ensure they are doing the right thing\n",
    " * Source/Count checks to ensure completeness\n",
    " \n"
   ]
  },
  {
   "cell_type": "markdown",
   "metadata": {
    "editable": true
   },
   "source": [
    "Read '.parquet' files"
   ]
  },
  {
   "cell_type": "code",
   "execution_count": 6,
   "metadata": {
    "editable": true
   },
   "outputs": [],
   "source": [
    "product_review_record_fact = session.read.parquet(\n",
    "    '{}/product_review_record_fact.parquet'.format(OUTPUT_DIR)\n",
    ")\n",
    "\n",
    "product_review_dimension = session.read.parquet(\n",
    "    '{}/product_review_dimension.parquet'.format(OUTPUT_DIR)\n",
    ")\n",
    "\n",
    "product_dimension = session.read.parquet(\n",
    "    '{}/product_dimension.parquet'.format(OUTPUT_DIR)\n",
    ")\n",
    "\n",
    "product_related_product_dimension = session.read.parquet(\n",
    "    '{}/product_related_product_dimension.parquet'.format(OUTPUT_DIR)\n",
    ")\n",
    "\n",
    "product_sales_rank_dimension = session.read.parquet(\n",
    "    '{}/product_sales_rank_dimension.parquet'.format(OUTPUT_DIR)\n",
    ")\n",
    "\n",
    "product_sales_rank_by_category_dimension = session.read.parquet(\n",
    "    '{}/product_sales_rank_by_category_dimension.parquet'.format(OUTPUT_DIR)\n",
    ")\n",
    "\n",
    "product_category_dimension = session.read.parquet(\n",
    "    '{}/product_category_dimension.parquet'.format(OUTPUT_DIR)\n",
    ")\n",
    "\n",
    "user_review_dimension = session.read.parquet(\n",
    "    '{}/user_review_dimension.parquet'.format(OUTPUT_DIR)\n",
    ")"
   ]
  },
  {
   "cell_type": "markdown",
   "metadata": {
    "editable": true
   },
   "source": [
    "Run Quality Checks"
   ]
  },
  {
   "cell_type": "code",
   "execution_count": 28,
   "metadata": {
    "editable": true
   },
   "outputs": [
    {
     "name": "stdout",
     "output_type": "stream",
     "text": [
      "Data quality check: 'product_review_record_fact' table: succeed (194817 rows)\n",
      "Data quality check: 'product_review_dimension' table: succeed (5588 rows)\n",
      "Data quality check: 'product_dimension' table: succeed (5588 rows)\n",
      "Data quality check: 'product_related_product_dimension' table: succeed (438827 rows)\n",
      "Data quality check: 'product_sales_rank_dimension' table: succeed (5463 rows)\n",
      "Data quality check: 'product_sales_rank_by_category_dimension' table: succeed (5463 rows)\n",
      "Data quality check: 'product_category_dimension' table: succeed (26733 rows)\n",
      "Data quality check: 'user_review_dimension' table: succeed (169762 rows)\n",
      "\n",
      "All checks succeeded! :)\n"
     ]
    }
   ],
   "source": [
    "dfs_to_check = {\n",
    "    'product_review_record_fact': product_review_record_fact,\n",
    "    'product_review_dimension': product_review_dimension,\n",
    "    'product_dimension': product_dimension,\n",
    "    'product_related_product_dimension': product_related_product_dimension,\n",
    "    'product_sales_rank_dimension': product_sales_rank_dimension,\n",
    "    'product_sales_rank_by_category_dimension': product_sales_rank_by_category_dimension,\n",
    "    'product_category_dimension': product_category_dimension,\n",
    "    'user_review_dimension': user_review_dimension,\n",
    "}\n",
    "\n",
    "for table, df in dfs_to_check.items():\n",
    "    data_quality_check(table, df)\n",
    "    \n",
    "print('\\nAll checks succeeded! :)')"
   ]
  },
  {
   "cell_type": "markdown",
   "metadata": {
    "editable": true
   },
   "source": [
    "Show schema for every table:"
   ]
  },
  {
   "cell_type": "code",
   "execution_count": 29,
   "metadata": {
    "editable": true
   },
   "outputs": [
    {
     "name": "stdout",
     "output_type": "stream",
     "text": [
      "root\n",
      " |-- user: string (nullable = true)\n",
      " |-- asin: string (nullable = true)\n",
      " |-- rating: long (nullable = true)\n",
      " |-- review_date: timestamp (nullable = true)\n",
      " |-- review_year: integer (nullable = true)\n",
      " |-- review_month: integer (nullable = true)\n",
      " |-- review_day: integer (nullable = true)\n",
      "\n"
     ]
    }
   ],
   "source": [
    "product_review_record_fact.printSchema()"
   ]
  },
  {
   "cell_type": "code",
   "execution_count": 30,
   "metadata": {
    "editable": true
   },
   "outputs": [
    {
     "name": "stdout",
     "output_type": "stream",
     "text": [
      "root\n",
      " |-- asin: string (nullable = true)\n",
      " |-- review_count: long (nullable = true)\n",
      " |-- avg_rating: double (nullable = true)\n",
      " |-- min_rating: long (nullable = true)\n",
      " |-- max_rating: long (nullable = true)\n",
      " |-- first_review_date: timestamp (nullable = true)\n",
      " |-- last_review_date: timestamp (nullable = true)\n",
      "\n"
     ]
    }
   ],
   "source": [
    "product_review_dimension.printSchema()"
   ]
  },
  {
   "cell_type": "code",
   "execution_count": 31,
   "metadata": {
    "editable": true
   },
   "outputs": [
    {
     "name": "stdout",
     "output_type": "stream",
     "text": [
      "root\n",
      " |-- asin: string (nullable = true)\n",
      " |-- brand: string (nullable = true)\n",
      " |-- title: string (nullable = true)\n",
      " |-- price: double (nullable = true)\n",
      "\n"
     ]
    }
   ],
   "source": [
    "product_dimension.printSchema()"
   ]
  },
  {
   "cell_type": "code",
   "execution_count": 32,
   "metadata": {
    "editable": true
   },
   "outputs": [
    {
     "name": "stdout",
     "output_type": "stream",
     "text": [
      "root\n",
      " |-- asin: string (nullable = true)\n",
      " |-- related_asin: string (nullable = true)\n",
      " |-- relation_type: string (nullable = true)\n",
      "\n"
     ]
    }
   ],
   "source": [
    "product_related_product_dimension.printSchema()"
   ]
  },
  {
   "cell_type": "code",
   "execution_count": 33,
   "metadata": {
    "editable": true
   },
   "outputs": [
    {
     "name": "stdout",
     "output_type": "stream",
     "text": [
      "root\n",
      " |-- asin: string (nullable = true)\n",
      " |-- sales_rank: long (nullable = true)\n",
      "\n"
     ]
    }
   ],
   "source": [
    "product_sales_rank_dimension.printSchema()"
   ]
  },
  {
   "cell_type": "code",
   "execution_count": 34,
   "metadata": {
    "editable": true
   },
   "outputs": [
    {
     "name": "stdout",
     "output_type": "stream",
     "text": [
      "root\n",
      " |-- asin: string (nullable = true)\n",
      " |-- sales_rank: long (nullable = true)\n",
      " |-- product_category: string (nullable = true)\n",
      "\n"
     ]
    }
   ],
   "source": [
    "product_sales_rank_by_category_dimension.printSchema()"
   ]
  },
  {
   "cell_type": "code",
   "execution_count": 35,
   "metadata": {
    "editable": true
   },
   "outputs": [
    {
     "name": "stdout",
     "output_type": "stream",
     "text": [
      "root\n",
      " |-- asin: string (nullable = true)\n",
      " |-- product_category: string (nullable = true)\n",
      "\n"
     ]
    }
   ],
   "source": [
    "product_category_dimension.printSchema()"
   ]
  },
  {
   "cell_type": "code",
   "execution_count": 36,
   "metadata": {
    "editable": true
   },
   "outputs": [
    {
     "name": "stdout",
     "output_type": "stream",
     "text": [
      "root\n",
      " |-- user: string (nullable = true)\n",
      " |-- review_count: long (nullable = true)\n",
      " |-- avg_rating: double (nullable = true)\n",
      " |-- min_rating: long (nullable = true)\n",
      " |-- max_rating: long (nullable = true)\n",
      " |-- first_review_date: timestamp (nullable = true)\n",
      " |-- last_review_date: timestamp (nullable = true)\n",
      "\n"
     ]
    }
   ],
   "source": [
    "user_review_dimension.printSchema()"
   ]
  },
  {
   "cell_type": "markdown",
   "metadata": {
    "editable": true
   },
   "source": [
    "#### 4.3 Data dictionary\n",
    "\n",
    "Table `product_review_record_fact`:\n",
    "\n",
    "| column | type | description |\n",
    "| --- | --- | --- |\n",
    "| user | string | ID of the user who wrote the review |\n",
    "| asin | string | **Amazon Standard Identification Number** (ASIN), a 10-character alphanumeric unique identifier assigned by [Amazon.com](amazon.com) and its partners for product identification within the Amazon organization |\n",
    "| rating | long | The rating, from 1 to 5, that the user gave for the product (bigger is better)  |\n",
    "| review_date | timestamp | The date the review was given |\n",
    "| review_year | integer | The year the review was given  |\n",
    "| review_month | integer | The month the review was given |\n",
    "| review_day | integer | The day the review was given |\n",
    "\n",
    "Table `product_review_dimension`:\n",
    "\n",
    "| column | type | description |\n",
    "| --- | --- | --- |\n",
    "| asin | string | **Amazon Standard Identification Number** (ASIN), a 10-character alphanumeric unique identifier assigned by [Amazon.com](amazon.com) and its partners for product identification within the Amazon organization |\n",
    "| review_count | long | The total of reviews a product received |\n",
    "| avg_rating | double | The average of all ratings a product received |\n",
    "| min_rating | long | The minimum of all ratings a product received |\n",
    "| max_rating | long | The maximum of all ratings a product received |\n",
    "| first_review_date | timestamp | The first date a product received a review |\n",
    "| last_review_date | timestamp | The last date a product received a review |\n",
    "\n",
    "Table `product_dimension`:\n",
    "\n",
    "| column | type | description |\n",
    "| --- | --- | --- |\n",
    "| asin | string | **Amazon Standard Identification Number** (ASIN), a 10-character alphanumeric unique identifier assigned by [Amazon.com](amazon.com) and its partners for product identification within the Amazon organization |\n",
    "| brand | string | The brand of the product |\n",
    "| title | string | The title of the product |\n",
    "| price | double | The price of the product |\n",
    "\n",
    "Table `product_related_product_dimension`:\n",
    "\n",
    "| column | type | description |\n",
    "| --- | --- | --- |\n",
    "| asin | string | **Amazon Standard Identification Number** (ASIN), a 10-character alphanumeric unique identifier assigned by [Amazon.com](amazon.com) and its partners for product identification within the Amazon organization |\n",
    "| related_asin | string | The ASIN of an related product |\n",
    "| relation_type | string | The type of the relation (also bought, also viewed, bought together, buy after viewing) |\n",
    "\n",
    "Table `product_sales_rank_dimension`:\n",
    "\n",
    "| column | type | description |\n",
    "| --- | --- | --- |\n",
    "| asin | string | **Amazon Standard Identification Number** (ASIN), a 10-character alphanumeric unique identifier assigned by [Amazon.com](amazon.com) and its partners for product identification within the Amazon organization |\n",
    "| sales_rank | long | The best sales rank that the product has, considering all the categories in which it is categorized (lower is better) |\n",
    "\n",
    "Table `product_sales_rank_by_category_dimension`:\n",
    "\n",
    "| column | type | description |\n",
    "| --- | --- | --- | \n",
    "| asin | string | **Amazon Standard Identification Number** (ASIN), a 10-character alphanumeric unique identifier assigned by [Amazon.com](amazon.com) and its partners for product identification within the Amazon organization |\n",
    "| sales_rank | long | Product's sales rank (lower is better) |\n",
    "| product_category | string | Category to which the sales rank refers |\n",
    "\n",
    "Table `product_category_dimension`:\n",
    "\n",
    "| column | type | description |\n",
    "| --- | --- | --- |\n",
    "| asin | string | **Amazon Standard Identification Number** (ASIN), a 10-character alphanumeric unique identifier assigned by [Amazon.com](amazon.com) and its partners for product identification within the Amazon organization |\n",
    "| product_category | string | The product category |\n",
    "\n",
    "Table `user_review_dimension`:\n",
    "\n",
    "| column | type | description |\n",
    "| --- | --- | --- |\n",
    "| user | string | ID of the user who wrote the review |\n",
    "| review_count | long | The total of reviews a user wrote |\n",
    "| avg_rating | double | The average of all ratings a user wrote |\n",
    "| min_rating | long | The minimum of all ratings a user wrote |\n",
    "| max_rating | long | The maximum of all ratings a user wrote |\n",
    "| first_review_date | timestamp | The first date a user wrote a review |\n",
    "| last_review_date | timestamp | The last date a user wrote a review |"
   ]
  },
  {
   "cell_type": "markdown",
   "metadata": {
    "editable": true
   },
   "source": [
    "#### Step 5: Running queries on the built database\n",
    "\n",
    "In this step, we will use the database previously built to run queries in order to serve an (theoretical) recommendation system, in addition to a (also theoretical) analytics system."
   ]
  },
  {
   "cell_type": "code",
   "execution_count": 10,
   "metadata": {
    "editable": true
   },
   "outputs": [],
   "source": [
    "# Creating views to execute SQL queries on the built database\n",
    "\n",
    "product_review_record_fact.createOrReplaceTempView('product_review_record_fact')\n",
    "product_review_dimension.createOrReplaceTempView('product_review_dimension')\n",
    "product_dimension.createOrReplaceTempView('product_dimension')\n",
    "product_related_product_dimension.createOrReplaceTempView('product_related_product_dimension')\n",
    "product_sales_rank_dimension.createOrReplaceTempView('product_sales_rank_dimension')\n",
    "product_sales_rank_by_category_dimension.createOrReplaceTempView('product_sales_rank_by_category_dimension')\n",
    "product_category_dimension.createOrReplaceTempView('product_category_dimension')\n",
    "user_review_dimension.createOrReplaceTempView('user_review_dimension')"
   ]
  },
  {
   "cell_type": "markdown",
   "metadata": {
    "editable": true
   },
   "source": [
    "##### 5.1 Recommendation system queries:"
   ]
  },
  {
   "cell_type": "markdown",
   "metadata": {
    "editable": true
   },
   "source": [
    "5.1.1 Best selling related products:\n",
    "\n",
    "Shows the best-selling related products for a given product."
   ]
  },
  {
   "cell_type": "code",
   "execution_count": 11,
   "metadata": {
    "editable": true
   },
   "outputs": [
    {
     "name": "stdout",
     "output_type": "stream",
     "text": [
      "+-------------+----------+----------+------+--------------------+-----+\n",
      "|relation_type|sales_rank|      asin| brand|               title|price|\n",
      "+-------------+----------+----------+------+--------------------+-----+\n",
      "|  also_bought|     18688|0739057561|Alfred|Don Mock's Master...|15.95|\n",
      "+-------------+----------+----------+------+--------------------+-----+\n",
      "\n"
     ]
    }
   ],
   "source": [
    "# Define here the ASIN of the product that will be used as the basis for the recommendation in the query.\n",
    "product_asin='0739045067'\n",
    "\n",
    "session.sql(\n",
    "    best_selling_product_related_product_query.format(product_asin)\n",
    ").show()"
   ]
  },
  {
   "cell_type": "markdown",
   "metadata": {
    "editable": true
   },
   "source": [
    "5.1.2 Best selling products in the same category:\n",
    "\n",
    "Shows the best-selling products in the same category of a given product"
   ]
  },
  {
   "cell_type": "code",
   "execution_count": 12,
   "metadata": {
    "editable": true
   },
   "outputs": [
    {
     "name": "stdout",
     "output_type": "stream",
     "text": [
      "+----------------+----------+----------+--------------------+--------------------+-----+\n",
      "|product_category|sales_rank|      asin|               brand|               title|price|\n",
      "+----------------+----------+----------+--------------------+--------------------+-----+\n",
      "|     Movies & TV|      1368|0767803434|Columbia/Tristar ...|       Air Force One| 6.76|\n",
      "|     Movies & TV|      1858|0783219806|UNIVERSAL STUDIOS...|  The Little Rascals| 9.55|\n",
      "|     Movies & TV|      2740|0767836324|                Sony|                Hook|  9.0|\n",
      "|     Movies & TV|      3517|0767836359|                Sony|A River Runs Thro...| 7.44|\n",
      "|     Movies & TV|      4249|0767851013|                Sony|Little Women (Col...|14.97|\n",
      "|     Movies & TV|      4545|0767827813|         FIELD,SALLY|    Murphy's Romance|58.89|\n",
      "|     Movies & TV|      4902|0767802519|Columbia/Tristar ...|    The Professional| 7.39|\n",
      "|     Movies & TV|      5080|0767839277|                Sony|The Adventures of...| 6.03|\n",
      "|     Movies & TV|      5103|0780618548|   Warner Home Video|The Long Kiss Goo...|  5.0|\n",
      "|     Movies & TV|      5380|0767827651|                Sony|      Bye Bye Birdie|11.12|\n",
      "|     Movies & TV|      5432|0767821408|         WILSON/CAAN|       Bottle Rocket| 9.91|\n",
      "|     Movies & TV|      5469|0767811100|                Sony|  As Good As It Gets| 9.96|\n",
      "|     Movies & TV|      5936|0783114907|   Warner Home Video|        Sweet Dreams| 8.99|\n",
      "|     Movies & TV|      6099|630463949X|WEA-DES MOINES VIDEO|Fleetwood Mac - T...|32.15|\n",
      "|     Movies & TV|      6891|0767806808|Columbia/Tristar ...|        Multiplicity|17.63|\n",
      "|     Movies & TV|      7511|076780676X|    MACLAINE,SHIRLEY|       Guarding Tess| 9.95|\n",
      "|     Movies & TV|      7885|0767827929|                Sony|            Godspell| 9.49|\n",
      "|     Movies & TV|      8044|0738920762|       Sesame Street|Sesame Street: 12...| 10.0|\n",
      "|     Movies & TV|      8129|0767812182|                Sony|        Thunderheart|16.99|\n",
      "|     Movies & TV|      8732|076782170X|                Sony|   Two Moon Junction| 5.43|\n",
      "+----------------+----------+----------+--------------------+--------------------+-----+\n",
      "only showing top 20 rows\n",
      "\n"
     ]
    }
   ],
   "source": [
    "# Define here the ASIN of the product that will be used as the basis for the recommendation in the query.\n",
    "product_asin='0739045067'\n",
    "\n",
    "session.sql(\n",
    "    best_selling_product_same_category_query.format(product_asin)\n",
    ").show()"
   ]
  },
  {
   "cell_type": "markdown",
   "metadata": {
    "editable": true
   },
   "source": [
    "5.1.3 Best rated products in the same category:\n",
    "\n",
    "Shows the best rated products in the same category of a given product"
   ]
  },
  {
   "cell_type": "code",
   "execution_count": 13,
   "metadata": {
    "editable": true
   },
   "outputs": [
    {
     "name": "stdout",
     "output_type": "stream",
     "text": [
      "+----------+------------+----------+--------------------+--------------------+-----+\n",
      "|avg_rating|review_count|      asin|               brand|               title|price|\n",
      "+----------+------------+----------+--------------------+--------------------+-----+\n",
      "|       5.0|          20|1573301310|                Sony|Herbert von Karaj...|19.08|\n",
      "|       5.0|          19|B000000DE1|   Wea/Atlantic/Curb|          All I Want| 4.99|\n",
      "|       5.0|          14|B0000008E9|    PARAGONS/JESTERS|Paragons Meet the...| 9.96|\n",
      "|       5.0|          14|B00000I3YS|Educational Activ...|   Rhythms on Parade|12.21|\n",
      "|       5.0|          13|B0000006VP|       AUGER/BALDWIN|Arleen Auger: Lov...|16.49|\n",
      "|       5.0|          10|B000006SCQ|                 EMI|          This Child| 16.4|\n",
      "|       5.0|           8|B0000002VF|        BOOKER,JAMES|New Orleans Piano...|15.57|\n",
      "|       5.0|           8|B0000002ZU|        BOOKER,JAMES| Spiders on the Keys|15.78|\n",
      "|       5.0|           6|B000000FV6|   Cd Baby.Com/Indys|Don't Let The Bas...| 9.99|\n",
      "|       5.0|           6|B0000003G8|       HINOJOSA,TISH|Cada Nino / Every...|16.41|\n",
      "|       5.0|           5|6302009030|      King Cole Inc.|Red Hot + Blue - ...| 9.99|\n",
      "|       5.0|           5|B0000003GL|             Kennedy|Irish Folk Tales ...|13.04|\n",
      "|       5.0|           5|B0000002KR|             Johnson|        Blue Diamond|13.25|\n",
      "|       5.0|           5|B0000003DX|         RILEY,STEVE|        La Toussaint|15.13|\n",
      "|       5.0|           5|1574170082|     Brand: Arcoiris|Arrullos: Lullabi...| 25.0|\n",
      "|       5.0|           4|0310269156|            BELL,ROB|  Nooma: Matthew 012| 6.86|\n",
      "|       5.0|           4|B000000FW1|        ROUNDER KIDS| Everybody Is a Star|11.03|\n",
      "|       5.0|           4|B0000002P9|   RICE,RICE,HILLMAN| Out of the Woodwork|11.88|\n",
      "|       5.0|           4|B0000003M5|          FLECK,BELA|            Daybreak| 12.1|\n",
      "|       5.0|           4|B0000007RZ|    Fat Wreck Chords|     Novelty Forever|13.23|\n",
      "+----------+------------+----------+--------------------+--------------------+-----+\n",
      "only showing top 20 rows\n",
      "\n"
     ]
    }
   ],
   "source": [
    "# Define here the ASIN of the product that will be used as the basis for the recommendation in the query.\n",
    "product_asin='0739045067'\n",
    "\n",
    "session.sql(\n",
    "    best_rated_product_same_category_query.format(product_asin)\n",
    ").show()"
   ]
  },
  {
   "cell_type": "markdown",
   "metadata": {
    "editable": true
   },
   "source": [
    "5.1.4 Cheaper related products:\n",
    "\n",
    "Shows the cheaper related products of a given product"
   ]
  },
  {
   "cell_type": "code",
   "execution_count": 14,
   "metadata": {
    "editable": true
   },
   "outputs": [
    {
     "name": "stdout",
     "output_type": "stream",
     "text": [
      "+-------------+----------+--------+--------------------+-----+\n",
      "|relation_type|      asin|   brand|               title|price|\n",
      "+-------------+----------+--------+--------------------+-----+\n",
      "|  also_bought|0739057561|  Alfred|Don Mock's Master...|15.95|\n",
      "|  also_bought|0739044265|Creative|Pat Martino- Crea...|21.14|\n",
      "+-------------+----------+--------+--------------------+-----+\n",
      "\n"
     ]
    }
   ],
   "source": [
    "# Define here the ASIN of the product that will be used as the basis for the recommendation in the query.\n",
    "product_asin='0739045067'\n",
    "\n",
    "session.sql(\n",
    "    cheaper_related_product_query.format(product_asin)\n",
    ").show()"
   ]
  },
  {
   "cell_type": "markdown",
   "metadata": {
    "editable": true
   },
   "source": [
    "5.1.5 Cheaper products in the same category:\n",
    "\n",
    "Shows the cheaper products in the same category of a given product"
   ]
  },
  {
   "cell_type": "code",
   "execution_count": 15,
   "metadata": {
    "editable": true
   },
   "outputs": [
    {
     "name": "stdout",
     "output_type": "stream",
     "text": [
      "+----------+--------------------+--------------------+-----+\n",
      "|      asin|               brand|               title|price|\n",
      "+----------+--------------------+--------------------+-----+\n",
      "|6302353998|            VHS Tape|Passover at Bubbe...|  2.3|\n",
      "|6304400225|              Disney|Fun and Fancy Fre...| 2.48|\n",
      "|6304030576|DK - Dorling Kind...|See How They Grow...|  2.8|\n",
      "|B000000GT3|         Tvt Records|At The Speed Of L...| 2.98|\n",
      "|B00000DFRS|                Sony|My Love Is Your Love| 2.99|\n",
      "|B00000063H|           CUBANISMO|             Malembe| 3.05|\n",
      "|B00000IFNS|  Interscope Records|Ryde Or Die Compi...| 3.28|\n",
      "|6303224199|CMV COLUMBIA MUSI...|Barbra - The Conc...| 3.39|\n",
      "|B0000009P4|            RYKODISC|File Under: Easy ...| 3.69|\n",
      "|B000000GS1|         Tvt Records|  Bliss by Birdbrain| 3.69|\n",
      "|0849707692|                KJOS|KJOS Standard Of ...| 3.77|\n",
      "|0307142493|Santa Claus Is Co...|Santa Claus Is Co...| 3.86|\n",
      "|0849734339|                KJOS|KJOS Bach And Bef...| 3.95|\n",
      "|B0000005GG|           Hollywood|The Drifters - Gr...| 3.99|\n",
      "|B000000WJ5|              Virgin|           Home Brew| 3.99|\n",
      "|0740318896|       BATTAH,AUDREY|Pray 2.5 DVD (Pra...| 3.99|\n",
      "|B000000WJA|          Emm/Virgin|Are You Gonna Go ...|  4.0|\n",
      "|B0000000LI|             Generic|Yanni Live at the...| 4.21|\n",
      "|0767014812|             A&amp;E|Horatio Hornblowe...| 4.25|\n",
      "|0740318543|         MURRAY,JOSH|      Wait Your Turn|  4.4|\n",
      "+----------+--------------------+--------------------+-----+\n",
      "only showing top 20 rows\n",
      "\n"
     ]
    }
   ],
   "source": [
    "# Define here the ASIN of the product that will be used as the basis for the recommendation in the query.\n",
    "product_asin='0739045067'\n",
    "\n",
    "session.sql(\n",
    "    cheaper_product_same_category_query.format(product_asin)\n",
    ").show()"
   ]
  },
  {
   "cell_type": "markdown",
   "metadata": {
    "editable": true
   },
   "source": [
    "##### 5.2 Analytics system queries:"
   ]
  },
  {
   "cell_type": "markdown",
   "metadata": {
    "editable": true
   },
   "source": [
    "5.2.1 Best rated products:\n",
    "\n",
    "Shows the best rated products"
   ]
  },
  {
   "cell_type": "code",
   "execution_count": 16,
   "metadata": {
    "editable": true
   },
   "outputs": [
    {
     "name": "stdout",
     "output_type": "stream",
     "text": [
      "+----------+--------------------+--------------------+-----+----------+------------+----------+----------+----------+-------------------+-------------------+\n",
      "|      asin|               brand|               title|price|      asin|review_count|avg_rating|min_rating|max_rating|  first_review_date|   last_review_date|\n",
      "+----------+--------------------+--------------------+-----+----------+------------+----------+----------+----------+-------------------+-------------------+\n",
      "|B00004OCMZ|                 OXO|OXO Good Grips 1....| 7.19|B00004OCMZ|          20|       5.0|         5|         5|2000-06-19 00:00:00|2004-08-25 00:00:00|\n",
      "|1573301310|                Sony|Herbert von Karaj...|19.08|1573301310|          20|       5.0|         5|         5|1998-12-28 00:00:00|2014-03-28 00:00:00|\n",
      "|B000000DE1|   Wea/Atlantic/Curb|          All I Want| 4.99|B000000DE1|          19|       5.0|         5|         5|1999-01-31 00:00:00|2014-03-17 00:00:00|\n",
      "|B00004OCOR|                 OXO|OXO Good Grips St...|13.67|B00004OCOR|          17|       5.0|         5|         5|2004-08-29 00:00:00|2014-03-29 00:00:00|\n",
      "|B00000JQ4L|       Beanie Babies|Ty Beanie Babies ...| 4.08|B00000JQ4L|          16|       5.0|         5|         5|2002-06-11 00:00:00|2014-06-13 00:00:00|\n",
      "|B00000MHKY|           Folkmanis|Folkmanis Alligat...|18.71|B00000MHKY|          16|       5.0|         5|         5|2009-12-05 00:00:00|2014-02-06 00:00:00|\n",
      "|B0000008E9|    PARAGONS/JESTERS|Paragons Meet the...| 9.96|B0000008E9|          14|       5.0|         5|         5|2004-10-12 00:00:00|2013-04-12 00:00:00|\n",
      "|B00000I3YS|Educational Activ...|   Rhythms on Parade|12.21|B00000I3YS|          14|       5.0|         5|         5|2007-03-11 00:00:00|2014-04-05 00:00:00|\n",
      "|B0000006VP|       AUGER/BALDWIN|Arleen Auger: Lov...|16.49|B0000006VP|          13|       5.0|         5|         5|2000-02-07 00:00:00|2014-05-17 00:00:00|\n",
      "|B00000JSZH|            Yat Ming|Yat Ming Scale 1:...|44.95|B00000JSZH|          13|       5.0|         5|         5|2007-05-12 00:00:00|2014-07-02 00:00:00|\n",
      "|B00000JQ55|       Beanie Babies|Ty Beanie Babies ...| 1.97|B00000JQ55|          11|       5.0|         5|         5|2009-09-13 00:00:00|2014-07-04 00:00:00|\n",
      "|B00001QEE0|       Beanie Babies|TY Beanie Baby - ...| 3.55|B00001QEE0|          11|       5.0|         5|         5|2011-11-13 00:00:00|2014-02-20 00:00:00|\n",
      "|B00000ITJV|           Plan Toys|Plan Toy Doll Hou...|15.29|B00000ITJV|          11|       5.0|         5|         5|2007-02-22 00:00:00|2014-06-05 00:00:00|\n",
      "|B00004NKKK|Lights Camera Int...|Wooden Transporta...| 8.99|B00004NKKK|          10|       5.0|         5|         5|2001-03-09 00:00:00|2012-12-13 00:00:00|\n",
      "|B00000K2FZ|           Folkmanis|      Ladybug Puppet| 11.5|B00000K2FZ|          10|       5.0|         5|         5|2002-12-11 00:00:00|2014-07-11 00:00:00|\n",
      "|0963469142|             Everest|         Five Crowns|12.04|0963469142|          10|       5.0|         5|         5|2010-11-17 00:00:00|2014-06-24 00:00:00|\n",
      "|1892069164|            MindWare|MindWare Perplexo...|12.95|1892069164|          10|       5.0|         5|         5|2009-02-24 00:00:00|2014-06-27 00:00:00|\n",
      "|B00004OCMU|                 OXO|OXO SteeL Soup Sk...|14.99|B00004OCMU|          10|       5.0|         5|         5|2008-12-11 00:00:00|2014-03-04 00:00:00|\n",
      "|B000006SCQ|                 EMI|          This Child| 16.4|B000006SCQ|          10|       5.0|         5|         5|1998-07-13 00:00:00|2013-07-06 00:00:00|\n",
      "|9788072097|        Taylor Swift|Taylor Swift Wond...| 21.0|9788072097|          10|       5.0|         5|         5|2012-04-20 00:00:00|2014-05-12 00:00:00|\n",
      "+----------+--------------------+--------------------+-----+----------+------------+----------+----------+----------+-------------------+-------------------+\n",
      "only showing top 20 rows\n",
      "\n"
     ]
    }
   ],
   "source": [
    "session.sql(best_rated_product_query).show()"
   ]
  },
  {
   "cell_type": "markdown",
   "metadata": {
    "editable": true
   },
   "source": [
    "5.2.2 Worst rated products:\n",
    "\n",
    "Shows the worst rated products"
   ]
  },
  {
   "cell_type": "code",
   "execution_count": 17,
   "metadata": {
    "editable": true
   },
   "outputs": [
    {
     "name": "stdout",
     "output_type": "stream",
     "text": [
      "+----------+--------------------+--------------------+-----+----------+------------+----------+----------+----------+-------------------+-------------------+\n",
      "|      asin|               brand|               title|price|      asin|review_count|avg_rating|min_rating|max_rating|  first_review_date|   last_review_date|\n",
      "+----------+--------------------+--------------------+-----+----------+------------+----------+----------+----------+-------------------+-------------------+\n",
      "|B00002N8M7|            Raindrip|Rain Drip R682CP ...|51.99|B00002N8M7|          13|       1.0|         1|         1|2007-08-04 00:00:00|2013-11-18 00:00:00|\n",
      "|6305898871|MUSIC VIDEO DISTR...|I Want My DVD - V...| 8.82|6305898871|           4|       1.0|         1|         1|2000-08-03 00:00:00|2001-05-07 00:00:00|\n",
      "|1412719410|  EDUCATORS RESOURCE|My First Story Re...|32.41|1412719410|           4|       1.0|         1|         1|2012-07-30 00:00:00|2013-09-13 00:00:00|\n",
      "|1453020004|              Disney|Pocket Size Disne...|  1.0|1453020004|           3|       1.0|         1|         1|2014-05-02 00:00:00|2014-05-08 00:00:00|\n",
      "|1403776474|       Sesame Street|Sesame Street Ber...| 1.51|1403776474|           3|       1.0|         1|         1|2012-09-22 00:00:00|2013-06-02 00:00:00|\n",
      "|9983791773|  Wireless Solutions|LG Cookie KP500 S...| 1.98|9983791773|           3|       1.0|         1|         1|2013-12-22 00:00:00|2014-01-16 00:00:00|\n",
      "|B0000005GG|           Hollywood|The Drifters - Gr...| 3.99|B0000005GG|           3|       1.0|         1|         1|2000-06-06 00:00:00|2011-09-09 00:00:00|\n",
      "|9984971945|  Wireless Solutions|Motorola S305 (Bl...|  5.0|9984971945|           3|       1.0|         1|         1|2011-02-24 00:00:00|2014-07-08 00:00:00|\n",
      "|1572156384|           Dr. Seuss|Dr. Seuss One Fis...| 6.42|1572156384|           3|       1.0|         1|         1|2010-12-27 00:00:00|2014-02-14 00:00:00|\n",
      "|1603114254|          Mud Puddle|Decorate Your Own...|15.95|1603114254|           3|       1.0|         1|         1|2013-12-28 00:00:00|2014-03-20 00:00:00|\n",
      "|0979178819|         Joel Harden|Joel Harden's Mog...| 0.95|0979178819|           2|       1.0|         1|         1|2011-12-10 00:00:00|2013-12-25 00:00:00|\n",
      "|9989472629|  Wireless Solutions|Samsung Galaxy S2...| 3.01|9989472629|           2|       1.0|         1|         1|2013-01-10 00:00:00|2013-12-26 00:00:00|\n",
      "|9984925633|             Generic|HTC My Touch Goog...| 3.13|9984925633|           2|       1.0|         1|         1|2010-11-07 00:00:00|2011-03-02 00:00:00|\n",
      "|9985795180|  Wireless Solutions|Motorola Droid Ra...| 3.79|9985795180|           2|       1.0|         1|         1|2012-12-29 00:00:00|2013-01-24 00:00:00|\n",
      "|9983799723|  Wireless Solutions|T-Mobile Sidekick...| 3.99|9983799723|           2|       1.0|         1|         1|2011-01-18 00:00:00|2012-07-09 00:00:00|\n",
      "|1575615150|    University Games|Play 'n Learn Sys...| 7.85|1575615150|           2|       1.0|         1|         1|2013-10-12 00:00:00|2014-01-13 00:00:00|\n",
      "|B00002N688|             Gilmour|Gilmour 24 Inch B...| 8.57|B00002N688|           2|       1.0|         1|         1|2009-11-29 00:00:00|2011-04-05 00:00:00|\n",
      "|1606430122|       Sticker Atlas|Sticker Atlas of ...|11.99|1606430122|           2|       1.0|         1|         1|2009-11-22 00:00:00|2012-12-31 00:00:00|\n",
      "|B00000JGSS|              Larami|Star Wars Electro...|14.85|B00000JGSS|           2|       1.0|         1|         1|2011-02-12 00:00:00|2014-06-16 00:00:00|\n",
      "|B00001QHWF|   Lolo Company Inc.|Strange But True ...|16.99|B00001QHWF|           2|       1.0|         1|         1|2003-11-16 00:00:00|2006-07-16 00:00:00|\n",
      "+----------+--------------------+--------------------+-----+----------+------------+----------+----------+----------+-------------------+-------------------+\n",
      "only showing top 20 rows\n",
      "\n"
     ]
    }
   ],
   "source": [
    "session.sql(worst_rated_product_query).show()"
   ]
  },
  {
   "cell_type": "markdown",
   "metadata": {
    "editable": true
   },
   "source": [
    "5.2.3 Most rated products:\n",
    "\n",
    "Shows the most rated products (products that received the highest number of reviews)"
   ]
  },
  {
   "cell_type": "code",
   "execution_count": 18,
   "metadata": {
    "editable": true
   },
   "outputs": [
    {
     "name": "stdout",
     "output_type": "stream",
     "text": [
      "+----------+--------------------+--------------------+------+----------+------------+----------+----------+----------+-------------------+-------------------+\n",
      "|      asin|               brand|               title| price|      asin|review_count|avg_rating|min_rating|max_rating|  first_review_date|   last_review_date|\n",
      "+----------+--------------------+--------------------+------+----------+------------+----------+----------+----------+-------------------+-------------------+\n",
      "|8499000606|                Syma|Syma S107/S107G R...|  17.1|8499000606|        2938|      4.18|         1|         5|2010-03-02 00:00:00|2014-07-23 00:00:00|\n",
      "|B00004R9VV|            Flowtron|Flowtron BK-80D 8...|  76.0|B00004R9VV|        2091|      4.13|         1|         5|2000-06-13 00:00:00|2014-07-16 00:00:00|\n",
      "|7245456313|      Black Mountain|Black Mountain Pr...| 32.99|7245456313|        2033|      4.63|         1|         5|2010-09-02 00:00:00|2014-07-20 00:00:00|\n",
      "|B00002X29G|             Stanley|Stanley 66-039 6-...|  6.99|B00002X29G|        1652|      3.84|         1|         5|2001-02-22 00:00:00|2014-07-11 00:00:00|\n",
      "|B00002N602|              Presto|Presto 01341  4-Q...| 51.79|B00002N602|        1600|      4.51|         1|         5|2003-10-15 00:00:00|2014-07-16 00:00:00|\n",
      "|B00004RC6R|           West Bend|West Bend 82306 S...| 41.63|B00004RC6R|        1566|      4.17|         1|         5|2000-05-28 00:00:00|2014-07-23 00:00:00|\n",
      "|B00004R946|          Farberware|Farberware FCP280...| 59.99|B00004R946|        1495|       4.0|         1|         5|2000-09-06 00:00:00|2014-07-13 00:00:00|\n",
      "|0976990709|The Elf on the Shelf|The Elf on the Sh...| 24.95|0976990709|        1489|      4.54|         1|         5|2006-11-24 00:00:00|2014-07-21 00:00:00|\n",
      "|B00004OCKR|                 OXO|OXO Good Grips  S...| 29.95|B00004OCKR|        1452|      4.51|         1|         5|2000-05-25 00:00:00|2014-07-16 00:00:00|\n",
      "|0975277324|      Days of Wonder|      Ticket To Ride| 29.95|0975277324|        1433|       4.8|         1|         5|2004-12-01 00:00:00|2014-07-16 00:00:00|\n",
      "|B00000JGRT|           Cuisinart|Cuisinart ICE-20 ...| 62.99|B00000JGRT|        1239|      4.41|         1|         5|2000-05-04 00:00:00|2014-07-04 00:00:00|\n",
      "|1933054395|            MindWare|  Qwirkle Board Game| 24.95|1933054395|        1215|      4.69|         1|         5|2007-09-26 00:00:00|2014-07-16 00:00:00|\n",
      "|B00002N8CX|              Eureka|Eureka 3670G Migh...| 69.99|B00002N8CX|        1136|      4.25|         1|         5|1999-11-21 00:00:00|2014-07-22 00:00:00|\n",
      "|0972683275|           VideoSecu|VideoSecu 24&quot...| 29.99|0972683275|        1051|      4.47|         1|         5|2008-02-19 00:00:00|2014-07-22 00:00:00|\n",
      "|1932188126|         Bananagrams|         Bananagrams| 12.46|1932188126|        1018|      4.66|         1|         5|2007-05-21 00:00:00|2014-07-14 00:00:00|\n",
      "|B00000ISC5|         Insect Lore|Insect Lore Live ...| 14.71|B00000ISC5|        1012|      4.31|         1|         5|2000-11-13 00:00:00|2014-07-21 00:00:00|\n",
      "|B00004RA3E|              Scotts|Scotts 2000-20 20...| 135.0|B00004RA3E|         945|      3.83|         1|         5|2000-05-23 00:00:00|2014-07-20 00:00:00|\n",
      "|B00000JBO8|   Texas Instruments|Texas Instruments...|104.99|B00000JBO8|         907|      4.17|         1|         5|1999-08-25 00:00:00|2014-07-15 00:00:00|\n",
      "|B00000K3BR|        Stomp Rocket|Stomp Rocket Jr. ...|  12.0|B00000K3BR|         890|      4.56|         1|         5|2006-11-03 00:00:00|2014-07-22 00:00:00|\n",
      "|B00003IEME|           Energizer|Energizer AA Lith...|  6.09|B00003IEME|         836|      4.45|         1|         5|2003-11-22 00:00:00|2014-07-22 00:00:00|\n",
      "+----------+--------------------+--------------------+------+----------+------------+----------+----------+----------+-------------------+-------------------+\n",
      "only showing top 20 rows\n",
      "\n"
     ]
    }
   ],
   "source": [
    "session.sql(most_rated_product_query).show()"
   ]
  },
  {
   "cell_type": "markdown",
   "metadata": {
    "editable": true
   },
   "source": [
    "5.2.4 Best rated products by category:\n",
    "\n",
    "Shows the best rated products for each category"
   ]
  },
  {
   "cell_type": "code",
   "execution_count": 19,
   "metadata": {
    "editable": true
   },
   "outputs": [
    {
     "name": "stdout",
     "output_type": "stream",
     "text": [
      "+--------------------+----------+--------------------+--------------------+-----+------------+----------+----------+----------+-------------------+-------------------+\n",
      "|    product_category|      asin|               brand|               title|price|review_count|avg_rating|min_rating|max_rating|  first_review_date|   last_review_date|\n",
      "+--------------------+----------+--------------------+--------------------+-----+------------+----------+----------+----------+-------------------+-------------------+\n",
      "|         3-D Puzzles|B00000GC6B|             Wrebbit|3D Grandfather Cl...|99.95|           6|       5.0|         5|         5|2009-11-04 00:00:00|2013-10-07 00:00:00|\n",
      "|                  9V|B00003IE4E|           Energizer|Energizer 9V Alka...| 6.98|          21|      4.19|         1|         5|2000-07-02 00:00:00|2014-07-10 00:00:00|\n",
      "|                  AA|B00003IEME|           Energizer|Energizer AA Lith...| 6.09|         836|      4.45|         1|         5|2003-11-22 00:00:00|2014-07-22 00:00:00|\n",
      "|                 AAA|B00000JHQ2|            Duracell|Duracell Batterie...| 4.99|          23|      4.43|         1|         5|2000-04-28 00:00:00|2014-06-15 00:00:00|\n",
      "|         Accessories|B00000J4H3|              Maxell|Maxell 281120 XRM...|12.88|           9|       5.0|         5|         5|2013-01-27 00:00:00|2014-06-27 00:00:00|\n",
      "|Accessories & Sup...|B00000J0MS|            AT&amp;T|AT&amp;T 25-Ft. L...| 5.78|           2|       5.0|         5|         5|2014-03-12 00:00:00|2014-06-24 00:00:00|\n",
      "|      Accessory Kits|986229874X|                Zizo|Samsung Galaxy Ri...| 1.55|           3|      4.67|         4|         5|2013-10-02 00:00:00|2013-12-20 00:00:00|\n",
      "|           Acid Jazz|B000000GR4|         Tvt Records|               Babel|11.01|           2|       5.0|         5|         5|2002-06-04 00:00:00|2009-07-12 00:00:00|\n",
      "|Acoustic & Classi...|B00002MZ8R|           First Act|First Act Discove...|15.45|          13|      3.31|         1|         5|2003-10-28 00:00:00|2014-02-20 00:00:00|\n",
      "|      Acoustic Blues|B0000002ZU|        BOOKER,JAMES| Spiders on the Keys|15.78|           8|       5.0|         5|         5|1998-08-05 00:00:00|2012-10-05 00:00:00|\n",
      "|    Acoustic Violins|B000025KBO|Anton Becker Germ...|Violin Concerto /...|15.43|           2|       3.5|         3|         4|2013-03-24 00:00:00|2013-04-24 00:00:00|\n",
      "|Action & Toy Figures|1616590122|   Dark Horse Deluxe|Tim Burton Pin Cu...|20.99|           3|       5.0|         5|         5|2011-10-02 00:00:00|2013-10-08 00:00:00|\n",
      "|      Action Figures|B00000J2AB|           Star Wars|Star Wars: Power ...| 15.9|           9|       5.0|         5|         5|2010-08-15 00:00:00|2014-07-07 00:00:00|\n",
      "|Action Figures & ...|B00000J2AB|           Star Wars|Star Wars: Power ...| 15.9|           9|       5.0|         5|         5|2010-08-15 00:00:00|2014-07-07 00:00:00|\n",
      "|       Action Sports|6040159375|      Powell-Peralta|Powell Peralta Sk...| 3.21|           1|       5.0|         5|         5|2014-03-09 00:00:00|2014-03-09 00:00:00|\n",
      "|              Active|0000031887|      Boutique Cutie|Ballet Dress-Up F...| 6.79|         236|      4.22|         1|         5|2009-12-13 00:00:00|2014-06-16 00:00:00|\n",
      "|       Active Skirts|0000031887|      Boutique Cutie|Ballet Dress-Up F...| 6.79|         236|      4.22|         1|         5|2009-12-13 00:00:00|2014-06-16 00:00:00|\n",
      "|    Activity Centers|B00000IRKL|              Anatex|The Original Roll...|59.99|          46|      4.46|         2|         5|2001-11-01 00:00:00|2014-06-02 00:00:00|\n",
      "|Activity Play Cen...|B00000J4YP|                Haba|  Moby Clutching Toy| 10.9|          38|      4.39|         1|         5|2007-03-07 00:00:00|2014-05-27 00:00:00|\n",
      "| Adhesives & Sealers|B00002NCN7|            Savogran|Savogran 12861 Re...| 6.37|           1|       2.0|         2|         2|2013-07-18 00:00:00|2013-07-18 00:00:00|\n",
      "+--------------------+----------+--------------------+--------------------+-----+------------+----------+----------+----------+-------------------+-------------------+\n",
      "only showing top 20 rows\n",
      "\n"
     ]
    }
   ],
   "source": [
    "session.sql(best_rated_product_by_category_query).show()"
   ]
  },
  {
   "cell_type": "markdown",
   "metadata": {
    "editable": true
   },
   "source": [
    "5.2.5 Best selling products:\n",
    "\n",
    "Shows the best selling products"
   ]
  },
  {
   "cell_type": "code",
   "execution_count": 20,
   "metadata": {
    "editable": true
   },
   "outputs": [
    {
     "name": "stdout",
     "output_type": "stream",
     "text": [
      "+----------+----------+------------------+--------------------+-----+\n",
      "|sales_rank|      asin|             brand|               title|price|\n",
      "+----------+----------+------------------+--------------------+-----+\n",
      "|         4|B00004R9TL|Black &amp; Decker|Black &amp; Decke...|18.72|\n",
      "|         8|B00004R9VZ|          Flowtron|Flowtron BK-15D E...|36.38|\n",
      "|        10|B00000JIVS|              LEGO|LEGO Green Buildi...| 5.99|\n",
      "|        15|7245456313|    Black Mountain|Black Mountain Pr...|32.99|\n",
      "|        23|B00000IWIT|          Play-Doh|Play-Doh: Case of...| 5.64|\n",
      "|        24|B00004R9VW|          Flowtron|Flowtron BK-40D E...|47.99|\n",
      "|        25|B00000K3BR|      Stomp Rocket|Stomp Rocket Jr. ...| 12.0|\n",
      "|        32|B00004RAGL|              Apex|Apex REM 15 15-Fo...| 6.49|\n",
      "|        49|B00002N66H|           Fiskars|Fiskars Tradition...| 9.22|\n",
      "|        63|0975277324|    Days of Wonder|      Ticket To Ride|29.95|\n",
      "|        71|B00004RBDU|            Victor|Victor M231 Ultim...| 6.99|\n",
      "|        83|B00004RBDW|            Victor|Victor M380 Fly M...| 7.46|\n",
      "|        85|B00000ISC5|       Insect Lore|Insect Lore Live ...|14.71|\n",
      "|       101|B00000IV34|   SET Enterprises|Set The Family Ga...| 9.45|\n",
      "|       107|B0000003H4| Kimbo Educational|Singable Songs fo...|10.98|\n",
      "|       110|B00000DMCE|Learning Resources|Learning Resource...|21.79|\n",
      "|       111|B00004R9VV|          Flowtron|Flowtron BK-80D 8...| 76.0|\n",
      "|       119|1932188126|       Bananagrams|         Bananagrams|12.46|\n",
      "|       122|B00004RBDY|            Victor|Victor M383 Fly M...| 4.49|\n",
      "|       145|B00000J0RJ|           Crayola|Crayola 20ct Wash...| 5.49|\n",
      "+----------+----------+------------------+--------------------+-----+\n",
      "only showing top 20 rows\n",
      "\n"
     ]
    }
   ],
   "source": [
    "session.sql(best_selling_product_query).show()"
   ]
  },
  {
   "cell_type": "markdown",
   "metadata": {
    "editable": true
   },
   "source": [
    "5.2.6 Worst selling products:\n",
    "\n",
    "Shows the worst selling products"
   ]
  },
  {
   "cell_type": "code",
   "execution_count": 21,
   "metadata": {
    "editable": true
   },
   "outputs": [
    {
     "name": "stdout",
     "output_type": "stream",
     "text": [
      "+----------+----------+-------------------+--------------------+------+\n",
      "|sales_rank|      asin|              brand|               title| price|\n",
      "+----------+----------+-------------------+--------------------+------+\n",
      "|   2745586|1574892193|Cavallini &amp; Co.|Cavallini Gigante...| 49.95|\n",
      "|   2660606|7168258958|      Elite Mailers|Elite Mailers S25...| 31.49|\n",
      "|   2492608|B00000JN49|           Hoberman|Hoberman Large Ex...| 34.99|\n",
      "|   2177560|9178900484|               Ikea|IKEA - INGOLF Jun...|111.98|\n",
      "|   2151535|9539752574|            Flag It|Air Force Heavy D...|  2.95|\n",
      "|   2083565|9178907764|               IKEA|IKEA - GRUNDTAL T...| 19.95|\n",
      "|   2027880|9178896703|               Ikea|IKEA - RATIONELL ...| 19.79|\n",
      "|   1861711|9178882400|               Ikea|Sm&aring;land B&o...| 59.99|\n",
      "|   1767529|8963293599|        Hello Kitty|Hello kitty Lovel...| 22.99|\n",
      "|   1707155|0587168978|         Buyenlarge|&quot;Daybreak&qu...| 26.72|\n",
      "|   1685419|9875972428|            SanDisk|Professional Ultr...| 24.97|\n",
      "|   1584891|B00000ITSG|          Plan Toys|          Playground| 41.65|\n",
      "|   1559300|B00004R9X1|  Outdoor Unlimited|Outdoor Unlimited...|  1.75|\n",
      "|   1546868|1614547831|          Meri Meri|Toot Sweet Cake W...|  7.95|\n",
      "|   1448849|B00000J9QS|           Ohio Art|Betty Spaghetty B...|199.99|\n",
      "|   1365098|1596687436| Interweave Product|Piecework Magazin...| 19.47|\n",
      "|   1358975|B00001WRQR|     Games Workshop|Games Workshop Sp...| 69.83|\n",
      "|   1239980|9984913686|           Kingston|Professional King...|  4.76|\n",
      "|   1237222|B00004OCLN|                OXO|OXO Soap Dispensi...| 24.55|\n",
      "|   1233557|0000037214|         Big Dreams|Purple Sequin Tin...|  6.99|\n",
      "+----------+----------+-------------------+--------------------+------+\n",
      "only showing top 20 rows\n",
      "\n"
     ]
    }
   ],
   "source": [
    "session.sql(worst_selling_product_query).show()"
   ]
  },
  {
   "cell_type": "markdown",
   "metadata": {
    "editable": true
   },
   "source": [
    "5.2.7 Best selling products by category:\n",
    "\n",
    "Shows the best selling products for each category"
   ]
  },
  {
   "cell_type": "code",
   "execution_count": 22,
   "metadata": {
    "editable": true
   },
   "outputs": [
    {
     "name": "stdout",
     "output_type": "stream",
     "text": [
      "+--------------------+----------+----------+--------------------+--------------------+-----+\n",
      "|    product_category|sales_rank|      asin|               brand|               title|price|\n",
      "+--------------------+----------+----------+--------------------+--------------------+-----+\n",
      "|         3-D Puzzles|     22939|0911121056|      Creative Whack|Creative Whacks 6...|23.81|\n",
      "|                  AA|      3329|B00003IEME|           Energizer|Energizer AA Lith...| 6.09|\n",
      "|                 AAA|     13433|B00000JHQ2|            Duracell|Duracell Batterie...| 4.99|\n",
      "|         Accessories|        15|7245456313|      Black Mountain|Black Mountain Pr...|32.99|\n",
      "|Accessories & Sup...|      1152|B00000JBHP|              Yamaha|Yamaha RH1C Porta...| 9.86|\n",
      "|      Accessory Kits|    146203|986229874X|                Zizo|Samsung Galaxy Ri...| 1.55|\n",
      "|           Acid Jazz|    381966|B000000GR4|         Tvt Records|               Babel|11.01|\n",
      "|Acoustic & Classi...|      4093|B00002MZ8R|           First Act|First Act Discove...|15.45|\n",
      "|      Acoustic Blues|     13220|B0000003NN|             Unknown|    Mardi Gras Party|14.87|\n",
      "|    Acoustic Violins|    372905|B000025KBO|Anton Becker Germ...|Violin Concerto /...|15.43|\n",
      "|Action & Toy Figures|     19360|1616592079|   Dark Horse Deluxe|Mass Effect: Cerb...|25.17|\n",
      "|      Action Figures|      2766|1616617691|Fantasy Flight Games|Star Wars X-wing:...|55.49|\n",
      "|Action Figures & ...|      2766|1616617691|Fantasy Flight Games|Star Wars X-wing:...|55.49|\n",
      "|       Action Sports|    356002|6040161434|            Spitfire|Spitfire Wheels G...| 2.95|\n",
      "|              Active|      8547|0000031887|      Boutique Cutie|Ballet Dress-Up F...| 6.79|\n",
      "|       Active Skirts|      8547|0000031887|      Boutique Cutie|Ballet Dress-Up F...| 6.79|\n",
      "|    Activity Centers|      9527|B00000IW2S|           Playskool|Playskool Busy Ba...| 9.71|\n",
      "|Activity Play Cen...|     97559|B00000J4YP|                Haba|  Moby Clutching Toy| 10.9|\n",
      "| Adhesives & Sealers|    358469|B00002NCN7|            Savogran|Savogran 12861 Re...| 6.37|\n",
      "|   Adult Alternative|      1140|B000002GK1|         SOUNDGARDEN|      Badmotorfinger| 6.66|\n",
      "+--------------------+----------+----------+--------------------+--------------------+-----+\n",
      "only showing top 20 rows\n",
      "\n"
     ]
    }
   ],
   "source": [
    "session.sql(best_selling_product_by_category_query).show()"
   ]
  },
  {
   "cell_type": "markdown",
   "metadata": {
    "editable": true
   },
   "source": [
    "5.2.8 User review count:\n",
    "\n",
    "Shows users according to the number of reviews they have made."
   ]
  },
  {
   "cell_type": "code",
   "execution_count": 23,
   "metadata": {
    "editable": true
   },
   "outputs": [
    {
     "name": "stdout",
     "output_type": "stream",
     "text": [
      "+--------------+------------+----------+----------+----------+-------------------+-------------------+\n",
      "|          user|review_count|avg_rating|min_rating|max_rating|  first_review_date|   last_review_date|\n",
      "+--------------+------------+----------+----------+----------+-------------------+-------------------+\n",
      "| A9Q28YTLYREO7|          77|      3.34|         1|         5|1999-11-25 00:00:00|2013-10-02 00:00:00|\n",
      "| ANCOMAI0I7LVG|          46|      3.65|         1|         5|2008-01-31 00:00:00|2014-06-12 00:00:00|\n",
      "|A1J5KCZC8CMW9I|          46|      3.91|         2|         5|2002-07-14 00:00:00|2011-02-14 00:00:00|\n",
      "|A3LZGLA88K0LA0|          44|      3.91|         2|         5|2000-02-19 00:00:00|2013-01-10 00:00:00|\n",
      "| AJGU56YG8G1DQ|          43|      4.98|         4|         5|2011-03-31 00:00:00|2012-01-05 00:00:00|\n",
      "|A1GN8UJIZLCA59|          41|      4.56|         2|         5|2000-07-19 00:00:00|2012-04-26 00:00:00|\n",
      "|A3HU0B9XUEVHIM|          38|       4.5|         3|         5|2006-01-16 00:00:00|2014-06-17 00:00:00|\n",
      "|A1IKOYZVFHO1XP|          36|      4.72|         3|         5|2003-06-27 00:00:00|2008-04-14 00:00:00|\n",
      "|A2582KMXLK2P06|          35|      4.26|         2|         5|2006-07-13 00:00:00|2014-06-16 00:00:00|\n",
      "|A2PV6GK1HV54Y9|          35|      3.86|         1|         5|2006-04-17 00:00:00|2009-09-23 00:00:00|\n",
      "|A2BO41VARYGTAC|          35|      4.69|         3|         5|2000-11-24 00:00:00|2001-09-05 00:00:00|\n",
      "|A39CX0EE4BZCZC|          33|      4.24|         3|         5|2006-04-23 00:00:00|2009-06-29 00:00:00|\n",
      "| ALDAF4VVLFRHP|          32|      4.97|         4|         5|2012-01-27 00:00:00|2013-06-29 00:00:00|\n",
      "|A2U49LUUY4IKQQ|          32|      4.97|         4|         5|2002-09-05 00:00:00|2005-07-18 00:00:00|\n",
      "|A20EEWWSFMZ1PN|          30|      4.73|         3|         5|2000-12-05 00:00:00|2014-06-18 00:00:00|\n",
      "|A3VSBJEA4KBGBP|          30|      4.27|         2|         5|2006-12-14 00:00:00|2014-05-18 00:00:00|\n",
      "|A30H2335OM7RD6|          30|      4.83|         3|         5|2001-10-16 00:00:00|2011-11-30 00:00:00|\n",
      "| A8IFUOL8S9BZC|          30|      3.33|         1|         4|2007-10-08 00:00:00|2010-07-29 00:00:00|\n",
      "|A3KJ6JAZPH382D|          29|       4.1|         2|         5|2004-01-02 00:00:00|2013-09-14 00:00:00|\n",
      "|A2HWD9PTM7RBXN|          29|      4.14|         2|         5|1998-10-07 00:00:00|2010-01-10 00:00:00|\n",
      "+--------------+------------+----------+----------+----------+-------------------+-------------------+\n",
      "only showing top 20 rows\n",
      "\n"
     ]
    }
   ],
   "source": [
    "session.sql(user_review_count_query).show()"
   ]
  },
  {
   "cell_type": "markdown",
   "metadata": {
    "editable": true
   },
   "source": [
    "5.2.9 Best rated product in interval:\n",
    "\n",
    "Shows the products that received the most ratings from the specified interval to the \"present\" day.\n",
    "\n",
    "*As the database only has data until 2014, this will be considered the \"present day\""
   ]
  },
  {
   "cell_type": "code",
   "execution_count": 24,
   "metadata": {
    "editable": true
   },
   "outputs": [
    {
     "name": "stdout",
     "output_type": "stream",
     "text": [
      "+----------+------------+----------+----------+--------------------+--------------------+-----+\n",
      "|      asin|review_count|avg_rating|      asin|               brand|               title|price|\n",
      "+----------+------------+----------+----------+--------------------+--------------------+-----+\n",
      "|B00000IV34|          20|       5.0|B00000IV34|     SET Enterprises|Set The Family Ga...| 9.45|\n",
      "|B00000ADG2|          18|       5.0|B00000ADG2|         HILL,LAURYN|The Miseducation ...| 6.72|\n",
      "|B0000003IO|          17|       5.0|B0000003IO|               RAFFI|Raffi The Singabl...|20.61|\n",
      "|0767812182|          12|       5.0|0767812182|                Sony|        Thunderheart|16.99|\n",
      "|B000002KD5|          11|       5.0|B000002KD5|     Warner Brothers|       Fleetwood Mac| 7.99|\n",
      "|6305781427|          11|       5.0|6305781427|               YANNI|Yanni - Live at t...|12.11|\n",
      "|158994030X|          11|       5.0|158994030X|Fantasy Flight Games|            Citadels|19.38|\n",
      "|6302598834|          10|       5.0|6302598834|Children&#39;s Bo...|Beethoven Lives U...| 9.99|\n",
      "|B00002N6GA|          10|       5.0|B00002N6GA|      Jen Mfg., Inc.|Jen Manufacturing...| 10.4|\n",
      "|157982269X|          10|       5.0|157982269X|        Merry Makers|        Pete the Cat|12.28|\n",
      "|1589944968|          10|       5.0|1589944968|Fantasy Flight Games|    Cosmic Encounter|44.94|\n",
      "|B00004OCO9|           9|       5.0|B00004OCO9|                 OXO|Oxo Good Grips Me...|14.96|\n",
      "|0780622537|           9|       5.0|0780622537|TURNER HM ENTERTAINM|Fallen (Snap Case...|20.25|\n",
      "|B00001R3PJ|           9|       5.0|B00001R3PJ|        Little Tikes|Little Tikes High...|27.61|\n",
      "|B0000000LI|           8|       5.0|B0000000LI|             Generic|Yanni Live at the...| 4.21|\n",
      "|B00000IWH6|           8|       5.0|B00000IWH6|              Hasbro|     Yahtzee Classic| 6.19|\n",
      "|0767821637|           8|       5.0|0767821637|             Philips|            La Bamba| 6.99|\n",
      "|1940825008|           8|       5.0|1940825008|        Gale Force 9|Firefly: the Game...| 8.25|\n",
      "|1616618086|           8|       5.0|1616618086|Fantasy Flight Games|Eldritch Horror: ...| 20.5|\n",
      "|B00004RFKC|           8|       5.0|B00004RFKC|Zwilling J.A. Hen...|Zwilling J.A. Hen...|49.95|\n",
      "+----------+------------+----------+----------+--------------------+--------------------+-----+\n",
      "only showing top 20 rows\n",
      "\n"
     ]
    }
   ],
   "source": [
    "year=2014\n",
    "month=4\n",
    "\n",
    "session.sql(\n",
    "    best_rated_product_in_interval_query.format(year, month)\n",
    ").show()"
   ]
  },
  {
   "cell_type": "markdown",
   "metadata": {
    "editable": true
   },
   "source": [
    "#### Step 6: Complete Project Write Up\n",
    "\n",
    "- Clearly state the rationale for the choice of tools and technologies for the project:\n",
    "\n",
    "  - Apache Spark was used because:\n",
    "  \n",
    "      - Is a widely spread tool;\n",
    "      - Has a lot of documentation, it can be easily integrated with Python through PySpark;\n",
    "      - Has a lot of support from the community;\n",
    "      - Has the ability to handle very large files, in different formats;\n",
    "      - Offers an easy-to-work API, yet compatible with SQL;\n",
    "      - Enables fast, distributed processing for Big Data.\n",
    "\n",
    "\n",
    "- Propose how often the data should be updated and why:\n",
    "\n",
    "    - In theory, if this pipeline was running within Amazon, for example, new data would be generated at all times, such as when a user did a review. So, the closer to real-time these data were updated, the better (near-real-time).\n",
    "\n",
    "\n",
    "- Write a description of how you would approach the problem differently under the following scenarios:\n",
    "\n",
    " - The data was increased by 100x:\n",
    "     - Spark can handle this scenario easily;\n",
    "     - Obviously, if this project were taken into production, it should run in a cluster, and not a single machine, as it is running here;\n",
    "     - At first, we can just add more nodes to our cluster to improve the processing capacity;\n",
    "     - After, we can adjust our pipeline to be more performatic, like, for example, improving the partition of our data according to the queries that we need to execute;\n",
    "     - We can also increase the pre-processing of some of our tables/views, pre-aggregating data, even if it will spend more storage, to speed up the processing of queries.\n",
    "\n",
    "\n",
    " - The data populates a dashboard that must be updated on a daily basis by 7am every day:\n",
    " \n",
    "     - We can use Apache Airflow to schedule and run this pipeline.\n",
    "\n",
    "\n",
    " - The database needed to be accessed by 100+ people:\n",
    " \n",
    "     - In this case, we can move our tables/views to Amazon Redshift or Google BigQuery, for example, which provide faster access."
   ]
  }
 ],
 "metadata": {
  "kernelspec": {
   "display_name": "Python 3",
   "language": "python",
   "name": "python3"
  },
  "language_info": {
   "codemirror_mode": {
    "name": "ipython",
    "version": 3
   },
   "file_extension": ".py",
   "mimetype": "text/x-python",
   "name": "python",
   "nbconvert_exporter": "python",
   "pygments_lexer": "ipython3",
   "version": "3.6.3"
  }
 },
 "nbformat": 4,
 "nbformat_minor": 4
}
